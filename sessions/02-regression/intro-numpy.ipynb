{
 "cells": [
  {
   "cell_type": "markdown",
   "metadata": {},
   "source": [
    "# In the name of Allah\n",
    "\n",
    "* Introduction to `numpy`\n",
    "* **Linear Algebra course Spring 2020**\n",
    "* author: **Mahdi Niknejad** based on : <a href=\"https:\\\\snrazavi.ir\">snrazavi.ir</a>\n",
    "* **recommended time for reading : ~1 hour**"
   ]
  },
  {
   "cell_type": "markdown",
   "metadata": {},
   "source": [
    "We use `numpy` package to work with matrix\n",
    "* install it with **pip install numpy**\n",
    "* import it\n",
    "* use it"
   ]
  },
  {
   "cell_type": "code",
   "execution_count": 1,
   "metadata": {},
   "outputs": [],
   "source": [
    "import numpy as np"
   ]
  },
  {
   "cell_type": "markdown",
   "metadata": {},
   "source": [
    "**Help points**\n",
    "* `TAB` or `Shift` + `TAB`  ex:  np.[tab]\n",
    "* dir (np)\n",
    "* help (np.where)"
   ]
  },
  {
   "cell_type": "code",
   "execution_count": 2,
   "metadata": {},
   "outputs": [],
   "source": [
    "# np.\n",
    "\n",
    "# dir(np)\n",
    "\n",
    "# help(np.where)"
   ]
  },
  {
   "cell_type": "markdown",
   "metadata": {},
   "source": [
    "* **`Where`?**\n",
    "* **`type`?**"
   ]
  },
  {
   "cell_type": "code",
   "execution_count": 3,
   "metadata": {},
   "outputs": [
    {
     "name": "stdout",
     "output_type": "stream",
     "text": [
      "[[1 2 3]\n",
      " [4 5 6]\n",
      " [7 8 9]]\n",
      "\n",
      "\n",
      "[[0 0 0]\n",
      " [0 1 1]\n",
      " [1 1 1]]\n",
      "\n",
      "\n",
      "<class 'numpy.ndarray'>\n"
     ]
    }
   ],
   "source": [
    "# EX1:\n",
    "# 1.Create Array in numpy with 'np.array()'\n",
    "x = np.array([[1,2,3],\n",
    "             [4,5,6],\n",
    "             [7,8,9]])\n",
    "print(x)\n",
    "print(\"\\n\")\n",
    "\n",
    "# if x>4 put 1 else put 0:\n",
    "print(np.where(x > 4 , 1, 0))\n",
    "print(\"\\n\")\n",
    "\n",
    "# type of array:\n",
    "print(type(x))"
   ]
  },
  {
   "cell_type": "markdown",
   "metadata": {},
   "source": [
    "* **`ndim`?**"
   ]
  },
  {
   "cell_type": "code",
   "execution_count": 4,
   "metadata": {},
   "outputs": [
    {
     "name": "stdout",
     "output_type": "stream",
     "text": [
      "[1 2 3]\n",
      "<class 'numpy.ndarray'>\n",
      "1\n",
      "\n",
      "\n",
      "[[1 2 3]\n",
      " [4 5 6]]\n",
      "<class 'numpy.ndarray'>\n",
      "2\n",
      "\n",
      "\n",
      "[[[ 1  2  3]\n",
      "  [ 4  5  6]]\n",
      "\n",
      " [[ 7  8  9]\n",
      "  [10 11 12]]]\n",
      "<class 'numpy.ndarray'>\n",
      "3\n",
      "\n",
      "\n"
     ]
    }
   ],
   "source": [
    "# EX2:\n",
    "x = np.array([1,2,3])   # 1D array(vector)\n",
    "print(x)\n",
    "print(type(x))\n",
    "\n",
    "# print numbers of array dimension:\n",
    "print(x.ndim)\n",
    "print(\"\\n\")\n",
    "\n",
    "y = np.array([[1,2,3],[4,5,6]])  # 2D array(matrix)\n",
    "print(y)\n",
    "print(type(y))\n",
    "print(y.ndim)\n",
    "print(\"\\n\")\n",
    "\n",
    "z = np.array([[[1,2,3],[4,5,6]],[[7,8,9],[10,11,12]]])  # 3D array(tensor)\n",
    "print(z)\n",
    "print(type(z))\n",
    "print(z.ndim)\n",
    "print(\"\\n\")\n"
   ]
  },
  {
   "cell_type": "markdown",
   "metadata": {},
   "source": [
    "* **`shape`?**\n",
    "* how many **rows** we have?\n",
    "* how many **columns** we have?"
   ]
  },
  {
   "cell_type": "code",
   "execution_count": 5,
   "metadata": {},
   "outputs": [
    {
     "name": "stdout",
     "output_type": "stream",
     "text": [
      "[1 2 3]\n",
      "(3,)\n",
      "\n",
      "\n",
      "[[1 2 3]\n",
      " [4 5 6]]\n",
      "(2, 3)\n",
      "\n",
      "\n",
      "2\n",
      "3\n",
      "\n",
      "\n",
      "(2, 2, 3)\n"
     ]
    }
   ],
   "source": [
    "# EX3:\n",
    "A = np.array([1,2,3])\n",
    "print(A)\n",
    "print(A.shape)\n",
    "print(\"\\n\")\n",
    "# 3 is integer ,but (3,) is a tuple in python\n",
    "\n",
    "B = np.array([[1,2,3],[4,5,6]])\n",
    "print(B)\n",
    "print(B.shape)\n",
    "print(\"\\n\")\n",
    "\n",
    "# how many rows we have:\n",
    "print(B.shape[0])\n",
    "\n",
    "# how many columns we have:\n",
    "print(B.shape[1])\n",
    "\n",
    "\n",
    "print(\"\\n\")\n",
    "# from EX2 pay attention:\n",
    "print(z.shape)"
   ]
  },
  {
   "cell_type": "markdown",
   "metadata": {},
   "source": [
    "* **`reshape`?**"
   ]
  },
  {
   "cell_type": "code",
   "execution_count": 6,
   "metadata": {},
   "outputs": [
    {
     "name": "stdout",
     "output_type": "stream",
     "text": [
      "[[1 2 3]\n",
      " [4 5 6]]\n",
      "(2, 3)\n",
      "\n",
      "\n",
      "[[1 2]\n",
      " [3 4]\n",
      " [5 6]]\n",
      "\n",
      "\n",
      "[[1]\n",
      " [2]\n",
      " [3]\n",
      " [4]\n",
      " [5]\n",
      " [6]]\n",
      "\n",
      "\n",
      "[[1]\n",
      " [2]\n",
      " [3]\n",
      " [4]\n",
      " [5]\n",
      " [6]]\n",
      "\n",
      "\n",
      "[[1 2 3 4 5 6]]\n"
     ]
    }
   ],
   "source": [
    "# EX4:\n",
    "A = np.array([[1,2,3],[4,5,6]])\n",
    "print(A)\n",
    "print(A.shape)\n",
    "print(\"\\n\")\n",
    "\n",
    "print(np.reshape(A,(3,2)))\n",
    "print(\"\\n\")\n",
    "\n",
    "print(np.reshape(A,(6,1)))\n",
    "print(\"\\n\")\n",
    "\n",
    "# if we don't know the exact number of rows or cols\n",
    "# we put -1:\n",
    "print(np.reshape(A,(-1,1)))  # convert A to ?X1 matrix\n",
    "print(\"\\n\")\n",
    "print(np.reshape(A,(1,-1)))  # convert A to 1X? matrix"
   ]
  },
  {
   "cell_type": "markdown",
   "metadata": {},
   "source": [
    "**Convert nD array to (n+1)D array**"
   ]
  },
  {
   "cell_type": "code",
   "execution_count": 7,
   "metadata": {},
   "outputs": [
    {
     "name": "stdout",
     "output_type": "stream",
     "text": [
      "[1 2 3]\n",
      "1\n",
      "[[1]\n",
      " [2]\n",
      " [3]]\n",
      "2\n",
      "\n",
      "\n",
      "[[1]\n",
      " [2]\n",
      " [3]]\n",
      "\n",
      "\n",
      "###############################################\n",
      "[[1 2 3]\n",
      " [4 5 6]]\n",
      "2\n",
      "\n",
      "\n",
      "[[[1]\n",
      "  [2]\n",
      "  [3]]\n",
      "\n",
      " [[4]\n",
      "  [5]\n",
      "  [6]]]\n",
      "3\n"
     ]
    }
   ],
   "source": [
    "# EX5:\n",
    "# add direction to 'vector' now we have 'matrix'\n",
    "x = np.array([1,2,3])  # x is a vector\n",
    "print(x)\n",
    "print(x.ndim)\n",
    "\n",
    "\n",
    "y = x[:,None]   # y is a matrix\n",
    "print(y)\n",
    "print(y.ndim)\n",
    "print(\"\\n\")\n",
    "\n",
    "\n",
    "#or\n",
    "\n",
    "\n",
    "print(x[:,np.newaxis])\n",
    "print(\"\\n\")\n",
    "\n",
    "print(\"###############################################\")\n",
    "\n",
    "# add direction to 'matrix' now we have 'tensor'\n",
    "y = np.array([[1,2,3],[4,5,6]])   #y is a matrix\n",
    "print(y)\n",
    "print(y.ndim)\n",
    "print(\"\\n\")\n",
    "\n",
    "z = y[:,:,None]   # z is a tensor\n",
    "print(z)\n",
    "print(z.ndim)"
   ]
  },
  {
   "cell_type": "markdown",
   "metadata": {},
   "source": [
    "**Datatypes**\n",
    "* type of elements\n",
    "* **`dtype`?**\n",
    "* **`astype`?**"
   ]
  },
  {
   "cell_type": "code",
   "execution_count": 8,
   "metadata": {},
   "outputs": [
    {
     "name": "stdout",
     "output_type": "stream",
     "text": [
      "int32\n",
      "\n",
      "\n",
      "float64\n",
      "\n",
      "\n",
      "float32\n",
      "\n",
      "\n",
      "[[1 2 3]\n",
      " [4 5 6]]\n",
      "int32\n",
      "float64\n",
      "[[1. 2. 3.]\n",
      " [4. 5. 6.]]\n"
     ]
    }
   ],
   "source": [
    "# EX6:\n",
    "\n",
    "# default : int32\n",
    "A = np.array([1,2,3])\n",
    "print(A.dtype)\n",
    "print(\"\\n\")\n",
    "\n",
    "# more volume of RAM has filled:(float 64)\n",
    "B = np.array([1.,2.,3.])\n",
    "print(B.dtype)\n",
    "print(\"\\n\")\n",
    "\n",
    "# we can force type of elements:\n",
    "C = np.array([[1,2,3],[4,5,6]], dtype=np.float32)\n",
    "print(C.dtype)\n",
    "print(\"\\n\")\n",
    "\n",
    "D = np.array([[1,2,3],[4,5,6]])\n",
    "print(D)\n",
    "print(D.dtype)\n",
    "D = D.astype(np.float64)\n",
    "print(D.dtype)\n",
    "print(D)"
   ]
  },
  {
   "cell_type": "markdown",
   "metadata": {},
   "source": [
    "* **`size`?** <br>number of elements\n",
    "* **`itemsize`?** <br> size of each element"
   ]
  },
  {
   "cell_type": "code",
   "execution_count": 9,
   "metadata": {},
   "outputs": [
    {
     "name": "stdout",
     "output_type": "stream",
     "text": [
      "6\n",
      "4\n",
      "int32\n"
     ]
    }
   ],
   "source": [
    "# EX7:\n",
    "A = np.array([[1,2,3],[4,5,6]])\n",
    "print(A.size)\n",
    "print(A.itemsize)\n",
    "print(A.dtype)\n",
    "# 4 Bytes = 32 bits"
   ]
  },
  {
   "cell_type": "markdown",
   "metadata": {},
   "source": [
    "* **`arange`?**"
   ]
  },
  {
   "cell_type": "code",
   "execution_count": 10,
   "metadata": {},
   "outputs": [
    {
     "name": "stdout",
     "output_type": "stream",
     "text": [
      "[0 1 2 3 4]\n",
      "\n",
      "\n",
      "[ 1  2  3  4  5  6  7  8  9 10 11 12 13 14 15 16 17 18 19]\n",
      "\n",
      "\n",
      "[ 1  4  7 10 13 16 19]\n",
      "\n",
      "\n",
      "[ 1.+0.j  4.+0.j  7.+0.j 10.+0.j 13.+0.j 16.+0.j 19.+0.j]\n"
     ]
    }
   ],
   "source": [
    "# EX8:\n",
    "# 2.Create Array in numpy with 'np.arange()'\n",
    "#call 'arange' \"ey-reng\" : array range\n",
    "x = np.arange(5)\n",
    "print(x)\n",
    "print(\"\\n\")\n",
    "\n",
    "y = np.arange(1,20)\n",
    "print(y)\n",
    "print(\"\\n\")\n",
    "\n",
    "# third argument is step and it must be **Integer**\n",
    "z = np.arange(1,20,3)\n",
    "print(z)\n",
    "print(\"\\n\")\n",
    "\n",
    "\n",
    "\n",
    "#from EX6 pay attention:\n",
    "x = np.arange(1, 20, step=3, dtype=np.complex64)\n",
    "print(x)"
   ]
  },
  {
   "cell_type": "markdown",
   "metadata": {},
   "source": [
    "if we want to have **float** **`step`** number we can use :<br>\n",
    "* **`linspace`?**<br>\n",
    "linear space<br>\n",
    "each element adds with an unique number<br>\n",
    "\n",
    "* **note: when you are using 'float' work with linsoace instead of arange**"
   ]
  },
  {
   "cell_type": "code",
   "execution_count": 11,
   "metadata": {},
   "outputs": [
    {
     "name": "stdout",
     "output_type": "stream",
     "text": [
      "[1.   1.25 1.5  1.75 2.  ]\n",
      "\n",
      "\n",
      "[1.  1.2 1.4 1.6 1.8 2. ]\n",
      "[[1.  1.2 1.4]\n",
      " [1.6 1.8 2. ]]\n",
      "\n",
      "\n",
      "[1.  1.1 1.2 1.3 1.4 1.5 1.6 1.7 1.8 1.9 2. ]\n",
      "\n",
      "\n"
     ]
    }
   ],
   "source": [
    "# EX9:\n",
    "# divide [1,2] interval to 5 float numbers with same size:\n",
    "x = np.linspace(1,2,num=5)\n",
    "print(x)\n",
    "print(\"\\n\")\n",
    "\n",
    "y = np.linspace(1,2,6)\n",
    "print(y)\n",
    "\n",
    "# from EX4 pay attention:\n",
    "print(np.reshape(y,(2,3)))\n",
    "print(\"\\n\")\n",
    "\n",
    "\n",
    "z = np.linspace(1,2,11)\n",
    "print(z)\n",
    "print(\"\\n\")"
   ]
  },
  {
   "cell_type": "markdown",
   "metadata": {},
   "source": [
    "* **`logpace`?**<br>\n",
    "logarithm space<br>\n",
    "each element multiplys with an nuique number<br><br>\n"
   ]
  },
  {
   "cell_type": "code",
   "execution_count": 12,
   "metadata": {},
   "outputs": [
    {
     "name": "stdout",
     "output_type": "stream",
     "text": [
      "[1.e+01 1.e+02 1.e+03 1.e+04 1.e+05]\n",
      "\n",
      "\n",
      "[ 2.  4.  8. 16. 32.]\n",
      "\n",
      "\n"
     ]
    }
   ],
   "source": [
    "# Ex10:\n",
    "\n",
    "# base is :10 so:\n",
    "# divide [10^1,10^5] interval to 5 float numbers with same size:\n",
    "x = np.logspace(1,5,5)\n",
    "print(x)\n",
    "print(\"\\n\")\n",
    "# help(np.logspace)\n",
    "\n",
    "# if we want to have base=2:\n",
    "x = np.logspace(1,5,5,base=2)\n",
    "print(x)\n",
    "print(\"\\n\")\n",
    "\n",
    "\n"
   ]
  },
  {
   "cell_type": "markdown",
   "metadata": {},
   "source": [
    "***Change Default of printing numbers***"
   ]
  },
  {
   "cell_type": "code",
   "execution_count": 13,
   "metadata": {},
   "outputs": [
    {
     "name": "stdout",
     "output_type": "stream",
     "text": [
      "[10.00 100.00 1000.00 10000.00 100000.00]\n",
      "\n",
      "\n",
      "[10 100 1000 10000 100000]\n",
      "\n",
      "\n",
      "[10 100 1000 10000 100000]\n",
      "\n",
      "\n",
      "[1.1235]\n",
      "\n",
      "\n"
     ]
    }
   ],
   "source": [
    "# EX11:\n",
    "np.set_printoptions(formatter={'all':lambda x: '%.2f' % x})\n",
    "print(np.logspace(1,5,num=5))\n",
    "print(\"\\n\")\n",
    "\n",
    "np.set_printoptions(formatter={'all':lambda x: '%d' % x})\n",
    "print(np.logspace(1,5,num=5))\n",
    "print(\"\\n\")\n",
    "\n",
    "\n",
    "\n",
    "print(np.logspace(1,5,num=5))\n",
    "print(\"\\n\")\n",
    "\n",
    "np.set_printoptions(precision=4)\n",
    "print(np.array([1.1234567890]))\n",
    "print(\"\\n\")\n",
    "\n",
    "#reset format:\n",
    "np.set_printoptions()"
   ]
  },
  {
   "cell_type": "markdown",
   "metadata": {},
   "source": [
    "**Fixed arrays**\n",
    "* **`np.ones`**\n",
    "* **`np.zeros`**<br>\n",
    "**Zero Matrix**\n",
    "* **`np.full`**\n",
    "* **`np.eye`**<br>\n",
    "**I matrix**\n",
    "    * identity"
   ]
  },
  {
   "cell_type": "code",
   "execution_count": 15,
   "metadata": {},
   "outputs": [
    {
     "name": "stdout",
     "output_type": "stream",
     "text": [
      "[[1. 1. 1.]\n",
      " [1. 1. 1.]\n",
      " [1. 1. 1.]\n",
      " [1. 1. 1.]]\n",
      "\n",
      "\n",
      "[[5. 5. 5.]\n",
      " [5. 5. 5.]\n",
      " [5. 5. 5.]\n",
      " [5. 5. 5.]]\n",
      "\n",
      "\n",
      "##############################\n",
      "[[0 0 0]\n",
      " [0 0 0]\n",
      " [0 0 0]\n",
      " [0 0 0]]\n",
      "\n",
      "\n",
      "[[[0. 0. 0. 0.]\n",
      "  [0. 0. 0. 0.]\n",
      "  [0. 0. 0. 0.]]\n",
      "\n",
      " [[0. 0. 0. 0.]\n",
      "  [0. 0. 0. 0.]\n",
      "  [0. 0. 0. 0.]]]\n",
      "\n",
      "\n",
      "##############################\n",
      "[[2 2 2]\n",
      " [2 2 2]\n",
      " [2 2 2]\n",
      " [2 2 2]]\n",
      "\n",
      "\n",
      "##############################\n",
      "[[1 0 0 0]\n",
      " [0 1 0 0]\n",
      " [0 0 1 0]\n",
      " [0 0 0 1]]\n",
      "\n",
      "\n",
      "[[4. 0. 0.]\n",
      " [0. 4. 0.]\n",
      " [0. 0. 4.]]\n",
      "\n",
      "\n",
      "[[1. 0. 0.]\n",
      " [0. 1. 0.]\n",
      " [0. 0. 1.]]\n",
      "########## Questions ###########\n",
      "[[1 2 3]\n",
      " [4 5 6]\n",
      " [7 8 9]]\n",
      "\n",
      "\n",
      "[[0. 0. 0. 1.]\n",
      " [0. 0. 1. 0.]\n",
      " [0. 1. 0. 0.]\n",
      " [1. 0. 0. 0.]]\n",
      "\n",
      "\n",
      "[1 2 3 4 5 6 7 8 9]\n",
      "[9 8 7 6 5 4 3 2 1]\n"
     ]
    }
   ],
   "source": [
    "# EX12:\n",
    "# we should pass shape argument:\n",
    "print(np.ones(shape=(4,3)))\n",
    "print(\"\\n\")\n",
    "\n",
    "print(5 * np.ones(shape=(4,3)))\n",
    "print(\"\\n\")\n",
    "print(\"##############################\")\n",
    "print( np.zeros( shape=(4,3) , dtype=np.int32 ) )\n",
    "print(\"\\n\")\n",
    "# a 3D array matrix means 2 * 2D array matrix\n",
    "print(np.zeros((2,3,4))) \n",
    "print(\"\\n\")\n",
    "print(\"##############################\")\n",
    "print(np.full((4,3),2))\n",
    "print(\"\\n\")\n",
    "print(\"##############################\")\n",
    "print(np.eye(4,dtype=np.int32))\n",
    "print(\"\\n\")\n",
    "print(4*np.eye(3))\n",
    "print(\"\\n\")\n",
    "print(np.identity(3))\n",
    "\n",
    "\n",
    "print(\"########## Questions ###########\")\n",
    "print(np.arange(1,10).reshape(3,3))\n",
    "print(\"\\n\")\n",
    "# flip left to right\n",
    "print(np.fliplr(np.eye(4)))\n",
    "print(\"\\n\")\n",
    "\n",
    "# flip up to down\n",
    "print(np.arange(1,10))\n",
    "print(np.flipud(np.arange(1,10)))"
   ]
  },
  {
   "cell_type": "markdown",
   "metadata": {},
   "source": [
    "* **`rand` in random package ?**\n",
    "* **`randn`**\n",
    "    * **Normal** distribution : $\\mu=0$ and $\\sigma^2=1$\n",
    "    * **in general:** $N(\\mu, \\sigma^2)$\n",
    "\n",
    "$$\\sigma * N(0, 1) + \\mu$$\n",
    "* **`randint`**\n",
    "    * random int in an interval"
   ]
  },
  {
   "cell_type": "code",
   "execution_count": null,
   "metadata": {},
   "outputs": [],
   "source": [
    "# EX13:\n",
    "# random array with elements between 0 and 1 (with same probability)\n",
    "print(np.random.rand(3,2))\n",
    "print(\"\\n\")\n",
    "\n",
    "# normal distribution \n",
    "print(np.random.randn(3,2))\n",
    "print(\"\\n\")\n",
    "\n",
    "# we can use the above formula to create random numbers in general:\n",
    "# sigma^2 = 2   and   mu = 5\n",
    "x = np.sqrt(2.) * np.random.randn(3,2) + 5.0\n",
    "print(x)\n",
    "print(\"\\n\")\n",
    "\n",
    "# 2X3 array with random int elements in [0,4] \n",
    "print(np.random.randint(5,size=(2,3)))\n",
    "print(\"\\n\")\n",
    "\n",
    "\n",
    "\n",
    "# we can have a sequence of 0 and 1:(binary sequence)\n",
    "print(np.random.randint(2,size=(1,20)))\n",
    "print(\"\\n\")\n",
    "\n",
    "\n",
    "# keep same random number with seed(): \n",
    "\n",
    "# print(np.random.randint(5,size=(2,3)))\n",
    "# print(\"\\n\")\n",
    "# np.random.seed(10)\n",
    "# print(np.random.randint(5,size=(2,3)))\n",
    "# print(\"\\n\")\n",
    "\n",
    "\n",
    "# choose 3 random numbers in [0,4] with replacement:(repeat is true)\n",
    "print(np.random.choice(5,3))\n",
    "print(\"\\n\")\n",
    "\n",
    "# choose 3 random numbers in [0,4] without replacement:(repeat is false)\n",
    "print(np.random.choice(5,3 , replace=False))\n",
    "print(\"\\n\")\n",
    "\n",
    "# choose 3 random number in [0,4] with defined probability:\n",
    "# p[0]=0.1 , p[1]=0 ...\n",
    "print(np.random.choice(5,3,p=[0.1,0,0.2,0.7,0]))\n",
    "print(\"\\n\")\n",
    "\n",
    "# creating a random permutation(jaygasht) from 0 to 9:\n",
    "print(np.random.permutation(10))\n",
    "print(\"\\n\")\n",
    "\n",
    "# shuffle :\n",
    "x = np.arange(10)\n",
    "np.random.shuffle(x)\n",
    "print(x)"
   ]
  },
  {
   "cell_type": "markdown",
   "metadata": {},
   "source": [
    "* **Count non-zero elements**"
   ]
  },
  {
   "cell_type": "code",
   "execution_count": null,
   "metadata": {},
   "outputs": [],
   "source": [
    "# EX14:\n",
    "x = np.random.randint(2,size=(1,20))\n",
    "print(np.count_nonzero(x))\n",
    "\n",
    "# count numbers of zeros:\n",
    "y = np.array([1,2,3,0,5,0,3,7])\n",
    "print(y.size - np.count_nonzero(y))"
   ]
  },
  {
   "cell_type": "markdown",
   "metadata": {},
   "source": [
    "* **Access to elements of an array**<br>\n",
    "example: \n",
    "       A[0,0]  A[0,1]  A[0,2]\n",
    "       A[1,0]  A[1,1]  A[1,2]\n",
    "       A[2,0]  A[2,1]  A[2,2]"
   ]
  },
  {
   "cell_type": "code",
   "execution_count": null,
   "metadata": {},
   "outputs": [],
   "source": [
    "# EX15:\n",
    "A = np.array([[1, 2, 3],\n",
    "              [4, 5, 6],\n",
    "              [7, 8, 9]])\n",
    "\n",
    "print(\"A[1,0] = %s\" % A[1, 0])\n",
    "\n",
    "# second row:\n",
    "print(A[1])\n",
    "print(\"\\n\")\n",
    "# or:\n",
    "print(A[1, :])\n",
    "print(\"\\n\")\n",
    "\n",
    "# we can access 2 last elements of second row :\n",
    "print(A[1, 1:3])\n",
    "print(\"\\n\")\n",
    "\n",
    "# third column:\n",
    "print(A[:, 2])\n",
    "print(\"\\n\")"
   ]
  },
  {
   "cell_type": "markdown",
   "metadata": {},
   "source": [
    "* **Slicing**"
   ]
  },
  {
   "cell_type": "code",
   "execution_count": null,
   "metadata": {},
   "outputs": [],
   "source": [
    "# EX16:\n",
    "A = np.array([[1, 2, 3],\n",
    "              [4, 5, 6],\n",
    "              [7, 8, 9]])\n",
    "\n",
    "# rows : 0,1\n",
    "# cols : 1,2\n",
    "B = A[:2 , 1:3]\n",
    "print(B)"
   ]
  },
  {
   "cell_type": "markdown",
   "metadata": {},
   "source": [
    "* **Operations**\n",
    "* sum\n",
    "* subtract\n",
    "* multiply\n",
    "* divide"
   ]
  },
  {
   "cell_type": "code",
   "execution_count": null,
   "metadata": {},
   "outputs": [],
   "source": [
    "# EX17:\n",
    "x = np.array([[1,2],[3,4]],dtype=np.float64)\n",
    "y = np.array([[5,6],[7,8]],dtype=np.float64)\n",
    "\n",
    "print(x)\n",
    "print(\"\\n\")\n",
    "print(y)\n",
    "print(\"\\n\")\n",
    "\n",
    "# elementwise-sum:\n",
    "print(x + y)\n",
    "print(np.add(x,y))\n",
    "print(\"\\n\")\n",
    "\n",
    "# elementwise-subtract:\n",
    "print(x - y)\n",
    "print(np.subtract(x,y))\n",
    "print(\"\\n\")\n",
    "\n",
    "# elementwise-multiply:  (it is different from matrix multiplication)\n",
    "print(x*y)\n",
    "print(np.multiply(x,y))\n",
    "print(\"\\n\")\n",
    "\n",
    "# elementwise-divide:\n",
    "print(x/y)\n",
    "print(np.divide(x,y))\n",
    "print(\"\\n\")\n",
    "\n",
    "# elementwise-pow:\n",
    "np.set_printoptions(formatter={'all':lambda x: '%.2f' % x})\n",
    "print(x**y)\n",
    "np.set_printoptions()\n",
    "print(\"\\n\")\n",
    "\n",
    "# elementwise-sqrt:\n",
    "print(np.sqrt(x))\n",
    "print(\"\\n\")\n",
    "\n",
    "# elementwise-sin:\n",
    "print(np.sin(x))\n",
    "print(\"\\n\")\n",
    "\n"
   ]
  },
  {
   "cell_type": "markdown",
   "metadata": {},
   "source": [
    "* **Matrix multiplication**(ضرب برداری)\n",
    "    * between 2 vectors\n",
    "    * between a mtrix and a vector\n",
    "    * between 2 matrixes"
   ]
  },
  {
   "cell_type": "code",
   "execution_count": null,
   "metadata": {},
   "outputs": [],
   "source": [
    "# EX18:\n",
    "\n",
    "x = np.array([[1,2],[3,4]],dtype=np.float64)  # vector\n",
    "y = np.array([[5,6],[7,8]],dtype=np.float64)  # vector\n",
    "v = np.array([9, 10])   # matrix\n",
    "w = np.array([11, 12])  # matrix\n",
    "print(x)\n",
    "print(y)\n",
    "print(v)\n",
    "print(w)\n",
    "\n",
    "# between 2 matrixes:\n",
    "print(v.dot(w))\n",
    "print(np.dot(v,w))\n",
    "\n",
    "print(\"\\n\")\n",
    "\n",
    "# between a mtrix and a vector:\n",
    "print(v.dot(x))\n",
    "print(x.dot(v))\n",
    "\n",
    "print(np.dot(v,x))\n",
    "print(np.dot(x,v))\n",
    "\n",
    "# note: different outputs!\n",
    "print(\"\\n\")\n",
    "\n",
    "# between 2 vectors:\n",
    "print(x.dot(y))\n",
    "print(np.dot(x,y))"
   ]
  },
  {
   "cell_type": "markdown",
   "metadata": {},
   "source": [
    "* **Transpose**"
   ]
  },
  {
   "cell_type": "code",
   "execution_count": null,
   "metadata": {},
   "outputs": [],
   "source": [
    "# EX19:\n",
    "x = np.array([[1,2,3],[4,5,6]])\n",
    "print(x)\n",
    "print(\"\\n\")\n",
    "print(x.T)\n",
    "print(\"\\n\")\n",
    "\n",
    "# help(np.transpose)\n",
    "x = np.arange(4).reshape((2,2))\n",
    "print(x)\n",
    "print(\"\\n\")\n",
    "print(np.transpose(x))\n",
    "print(\"\\n\")\n",
    "\n",
    "# displace axises:\n",
    "A = np.arange(24).reshape(4, 2, 3) # 4 ta matrise 2 dar 3(farsi)\n",
    "print(A)\n",
    "print(\"\\n\")\n",
    "# Now let's create an ndarray such that the axes 0, 1, 2 (depth, height, width)\n",
    "# are re-ordered to 1, 2, 0 (depth→width, height→depth, width→height):\n",
    "B = A.transpose((1, 2, 0))\n",
    "print(B)\n",
    "print(\"\\n\")\n",
    "\n",
    "\n",
    "# By default, transpose reverses the order of the dimensions\n",
    "C = A.transpose()\n",
    "print(C)\n",
    "print(\"\\n\")"
   ]
  },
  {
   "cell_type": "markdown",
   "metadata": {},
   "source": [
    "* **some useful functions:**\n"
   ]
  },
  {
   "attachments": {
    "3.PNG": {
     "image/png": "[encoded data removed]"
    }
   },
   "cell_type": "markdown",
   "metadata": {},
   "source": [
    "![3.PNG](attachment:3.PNG)"
   ]
  },
  {
   "cell_type": "code",
   "execution_count": null,
   "metadata": {},
   "outputs": [],
   "source": [
    "# EX20:\n",
    "x = np.array([[1,2],\n",
    "             [3,4]])\n",
    "print(x.min())\n",
    "print(x.max())\n",
    "print(x.sum())  # sum of all elements\n",
    "print(x.prod()) # product of all elements\n",
    "print(x.mean()) \n",
    "print(x.std())  # parakandegi(farsi)\n",
    "print(x.var())  # variance\n",
    "\n",
    "\n",
    "print(\"###########################\")\n",
    "# we can define axis(محور):\n",
    "# 1D array : axis=0\n",
    "# 2D array : axis=0 , axis=1\n",
    "# 3D array : axis=0 , axis=1 , axis=2\n",
    "\n",
    "# sum of each column:\n",
    "print(np.sum(x,axis=0))\n",
    "\n",
    "# sum of each row:\n",
    "print(np.sum(x,axis=1))\n",
    "\n",
    "# sum of all elements:\n",
    "print(np.sum(x))\n",
    "\n",
    "# pay attention: axis=0 is vertical(عمودی)\n",
    "#                axis=1 is horizontal(افقی)\n"
   ]
  },
  {
   "cell_type": "markdown",
   "metadata": {},
   "source": [
    "* **Brodcasting**(پخش کردن) \n",
    "   * کوچیکه رو به بزرگه میرسونه!"
   ]
  },
  {
   "attachments": {
    "download.png": {
     "image/png": "[encoded data removed]"
    }
   },
   "cell_type": "markdown",
   "metadata": {},
   "source": [
    "![download.png](attachment:download.png)"
   ]
  },
  {
   "cell_type": "code",
   "execution_count": null,
   "metadata": {},
   "outputs": [],
   "source": [
    "# EX21:\n",
    "# if the arrays do not have same shape and we want to \n",
    "# multiply them , python matches their rank.\n",
    "\n",
    "x = np.arange(5).reshape(1,1,5)  # 3D array\n",
    "print(x) \n",
    "y = np.array([10,20,30,40,50])   # 1D array\n",
    "print(y)\n",
    "print(x + y)                     # 3D array\n",
    "\n",
    "\n",
    "print(\"\\n\")\n",
    "\n",
    "\n",
    "x = np.arange(6).reshape(2,3)\n",
    "print(x)\n",
    "y = np.array([[100],[200]])\n",
    "print(y)\n",
    "print(x + y)\n",
    "\n",
    "\n",
    "print(\"\\n\")\n",
    "\n",
    "\n",
    "x = np.arange(6).reshape(2, 3)\n",
    "print(x)\n",
    "y = np.array([100, 200, 300])\n",
    "print(y)\n",
    "print(x + y)\n",
    "z = np.array([1000])\n",
    "print(x + z)    # print(x+1000)\n",
    "\n",
    "\n",
    "print(\"\\n\")\n",
    "\n",
    "#############################################\n",
    "# if we do not use Brodcasting:\n",
    "x = np.array([[ 1,  2,  3], \n",
    "              [ 4,  5,  6], \n",
    "              [ 7,  8,  9], \n",
    "              [10, 11, 12]])\n",
    "y = np.array([1 , 0 , 1])\n",
    "\n",
    "# we have zeros_like too that it creates a matrix with same shape as x:\n",
    "# a = np.zeros_like(x)\n",
    "# b = np.ones_like(x)\n",
    "\n",
    "z = np.empty_like(x) # z is empty matrix with the same shape as x\n",
    "# Add the vector y to each row of the matrix x\n",
    "for i in range(len(x)):\n",
    "    z[i,:] = x[i,:] + y\n",
    "print(z)\n",
    "# but if we use Brodcasting:\n",
    "z = x + y\n",
    "print(z)\n",
    "###############################################"
   ]
  },
  {
   "cell_type": "markdown",
   "metadata": {},
   "source": [
    "* **Conditional operators**"
   ]
  },
  {
   "cell_type": "code",
   "execution_count": null,
   "metadata": {},
   "outputs": [],
   "source": [
    "# EX22:\n",
    "x = np.array([20,-5,30,40])\n",
    "print(x < [15,16,35,36])\n",
    "print(x < 25) #Brodcasting\n",
    "print(x[[True,True,False,False]]) # choose 20 , 30 , 40\n",
    "#or\n",
    "print(x[x<25])"
   ]
  },
  {
   "cell_type": "markdown",
   "metadata": {},
   "source": [
    "* **Stacking array**\n",
    "    * **`vstack`?**<br>\n",
    "        vertical stack<br>\n",
    "    * **`hstack`?**<br>\n",
    "        horizontal stack"
   ]
  },
  {
   "cell_type": "code",
   "execution_count": null,
   "metadata": {
    "scrolled": false
   },
   "outputs": [],
   "source": [
    "# EX23:\n",
    "A = np.full((3,4),1)\n",
    "print(A)\n",
    "B = np.full((4,4),2)\n",
    "print(B)\n",
    "C = np.full((3,4),3)\n",
    "print(C)\n",
    "print(\"\\n\\n\")\n",
    "print(np.vstack((A,B,C)))   # same column shape here is 4\n",
    "print(\"\\n\")\n",
    "print(np.hstack((A,C)))     # same row shape here is 3"
   ]
  },
  {
   "cell_type": "markdown",
   "metadata": {},
   "source": [
    "* **`Concatenate`?**"
   ]
  },
  {
   "cell_type": "code",
   "execution_count": null,
   "metadata": {},
   "outputs": [],
   "source": [
    "# EX24:\n",
    "print(np.concatenate((A,B,C),axis=0))\n",
    "print(np.concatenate((A,C),axis=1))"
   ]
  },
  {
   "cell_type": "markdown",
   "metadata": {},
   "source": [
    "* **`stack`?**\n",
    "    * The stack function stacks arrays along a **new axis**"
   ]
  },
  {
   "cell_type": "code",
   "execution_count": null,
   "metadata": {},
   "outputs": [],
   "source": [
    "# EX25:\n",
    "print(np.stack((A,C)))"
   ]
  },
  {
   "cell_type": "code",
   "execution_count": null,
   "metadata": {},
   "outputs": [],
   "source": []
  }
 ],
 "metadata": {
  "kernelspec": {
   "display_name": "Python 3 (ipykernel)",
   "language": "python",
   "name": "python3"
  },
  "language_info": {
   "codemirror_mode": {
    "name": "ipython",
    "version": 3
   },
   "file_extension": ".py",
   "mimetype": "text/x-python",
   "name": "python",
   "nbconvert_exporter": "python",
   "pygments_lexer": "ipython3",
   "version": "3.8.3"
  }
 },
 "nbformat": 4,
 "nbformat_minor": 2
}
